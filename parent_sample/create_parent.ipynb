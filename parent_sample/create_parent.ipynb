{
 "cells": [
  {
   "cell_type": "code",
   "execution_count": 49,
   "metadata": {},
   "outputs": [],
   "source": [
    "import numpy as np\n",
    "from astropy.io import fits\n",
    "from astropy.coordinates import SkyCoord\n",
    "from astropy import units as u\n",
    "\n",
    "# read Zakamska catalog\n",
    "hdu = fits.open(\"Zakamska2003.fit\")\n",
    "data = hdu[1].data\n",
    "catalog1 = SkyCoord(ra=data['_RA']*u.deg, dec=data['_DE']*u.deg)\n",
    "hdu.close()\n",
    "\n",
    "# same for Reyes\n",
    "hdu = fits.open(\"Reyes2008.fit\")\n",
    "data = hdu[1].data\n",
    "catalog2 = SkyCoord(ra=data['RAJ2000']*u.deg, dec=data['DEJ2000']*u.deg)\n",
    "hdu.close()\n",
    "\n",
    "# for Mullaney we have to select agn type 2\n",
    "hdu = fits.open(\"Mullaney2013.fits\")\n",
    "data = hdu[1].data\n",
    "sel = data['AGN_TYPE'] == 2\n",
    "catalog3 = SkyCoord(ra=data['RA'][sel]*u.deg, dec=data['DEC'][sel]*u.deg)\n",
    "hdu.close()\n",
    "\n",
    "# for Yuan, we have to pick unique ones\n",
    "hdu = fits.open(\"Yuan2016.fits\")\n",
    "data = hdu[1].data\n",
    "sel = data['unique'] == 'unique'\n",
    "catalog4 = SkyCoord(ra=data['ra'][sel]*u.deg, dec=data['dec'][sel]*u.deg)\n",
    "hdu.close()"
   ]
  },
  {
   "cell_type": "code",
   "execution_count": 50,
   "metadata": {},
   "outputs": [],
   "source": [
    "def xor_catalog(catalog1, catalog2, sep=1*u.arcsec):\n",
    "    idx1, idx2, _, _ = catalog2.search_around_sky(catalog1, sep)\n",
    "    notin2 = np.in1d(np.arange(len(catalog2)), idx2, invert=True)\n",
    "    ra = np.concatenate((np.array(catalog1.ra), np.array(catalog2.ra)[notin2]))\n",
    "    dec = np.concatenate((np.array(catalog1.dec), np.array(catalog2.dec)[notin2]))\n",
    "    return SkyCoord(ra=ra*u.deg, dec=dec*u.deg)"
   ]
  },
  {
   "cell_type": "code",
   "execution_count": 59,
   "metadata": {},
   "outputs": [
    {
     "data": {
      "text/plain": [
       "(17059, 3746, 3601, 2758, 887)"
      ]
     },
     "execution_count": 59,
     "metadata": {},
     "output_type": "execute_result"
    }
   ],
   "source": [
    "# matching catalogs in the order of Sun et al. (2018) Table 1\n",
    "catalog42 = xor_catalog(catalog4, catalog2, sep=3*u.arcsec)\n",
    "catalog421 = xor_catalog(catalog42, catalog1, sep=3*u.arcsec)\n",
    "catalog4213 = xor_catalog(catalog421, catalog3, sep=2*u.arcsec)\n",
    "\n",
    "# however, these numbers don't agree with Table 1\n",
    "# additional selections need to have happened\n",
    "# e.g. Ai-Lei rejected 2 AGNs from Mullaney because they were apparently Type 1 \n",
    "len(catalog4213), len(catalog421), len(catalog42), len(catalog4), len(catalog2)"
   ]
  },
  {
   "cell_type": "code",
   "execution_count": 65,
   "metadata": {},
   "outputs": [],
   "source": [
    "# save as fits\n",
    "from astropy.table import Table\n",
    "t = Table((catalog4213.ra, catalog4213.dec), names=['RA','DEC'])\n",
    "t.write('parent.fits')"
   ]
  }
 ],
 "metadata": {
  "kernelspec": {
   "display_name": "Python 3",
   "language": "python",
   "name": "python3"
  },
  "language_info": {
   "codemirror_mode": {
    "name": "ipython",
    "version": 3
   },
   "file_extension": ".py",
   "mimetype": "text/x-python",
   "name": "python",
   "nbconvert_exporter": "python",
   "pygments_lexer": "ipython3",
   "version": "3.7.4"
  }
 },
 "nbformat": 4,
 "nbformat_minor": 4
}
