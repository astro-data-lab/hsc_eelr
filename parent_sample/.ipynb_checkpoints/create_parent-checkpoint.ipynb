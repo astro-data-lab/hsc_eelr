{
 "cells": [
  {
   "cell_type": "code",
   "execution_count": 12,
   "metadata": {},
   "outputs": [],
   "source": [
    "from astropy.io import fits\n",
    "from astropy.coordinates import SkyCoord\n",
    "from astropy import units as u\n",
    "\n",
    "# read Zakamska catalog\n",
    "hdu = fits.open(\"Zakamska2003.fit\")\n",
    "data = hdu[1].data\n",
    "catalog1 = SkyCoord(ra=data['_RA']*u.deg, dec=data['_DE']*u.deg)\n",
    "hdu.close()\n",
    "\n",
    "# same for Reyes\n",
    "hdu = fits.open(\"Reyes2008.fit\")\n",
    "data = hdu[1].data\n",
    "catalog2 = SkyCoord(ra=data['RAJ2000']*u.deg, dec=data['DEJ2000']*u.deg)\n",
    "hdu.close()\n",
    "\n",
    "# for Mullaney we have to select agn type 2\n",
    "hdu = fits.open(\"Mullaney2013.fits\")\n",
    "data = hdu[1].data\n",
    "sel = data['AGN_TYPE'] == 2\n",
    "ra3, dec3 = data['RA'][sel], data['DEC'][sel]\n",
    "hdu.close()\n",
    "\n",
    "# for Yuan, we have to pick unique ones\n",
    "hdu = fits.open(\"Yuan2016.fits\")\n",
    "data = hdu[1].data\n",
    "sel = data['unique'] == 'unique'\n",
    "ra4, dec4 = data['ra'][sel], data['dec'][sel]\n",
    "hdu.close()"
   ]
  },
  {
   "cell_type": "code",
   "execution_count": null,
   "metadata": {},
   "outputs": [],
   "source": [
    "# matching them\n",
    "from astropy.coordinates import SkyCoord\n",
    "from astropy import units as u\n",
    "\n"
   ]
  }
 ],
 "metadata": {
  "kernelspec": {
   "display_name": "Python 3",
   "language": "python",
   "name": "python3"
  },
  "language_info": {
   "codemirror_mode": {
    "name": "ipython",
    "version": 3
   },
   "file_extension": ".py",
   "mimetype": "text/x-python",
   "name": "python",
   "nbconvert_exporter": "python",
   "pygments_lexer": "ipython3",
   "version": "3.7.3"
  }
 },
 "nbformat": 4,
 "nbformat_minor": 2
}
