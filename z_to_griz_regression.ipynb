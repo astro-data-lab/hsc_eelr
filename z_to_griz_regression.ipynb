{
 "cells": [
  {
   "cell_type": "code",
   "execution_count": null,
   "metadata": {},
   "outputs": [],
   "source": [
    "import numpy as np\n",
    "import matplotlib.pyplot as plt\n",
    "\n",
    "# to open fits files\n",
    "from astropy.table import Table"
   ]
  },
  {
   "cell_type": "code",
   "execution_count": null,
   "metadata": {},
   "outputs": [],
   "source": [
    "source_list = Table.read(\"parent_sample/EELR_HSCmag_from_SDSSspec.fits\")"
   ]
  },
  {
   "cell_type": "code",
   "execution_count": null,
   "metadata": {},
   "outputs": [],
   "source": [
    "z = source_list[:][\"Z\"]\n",
    "griz = np.nan_to_num(source_list[:][\"MAG_AB_LINEONLY\"], nan=30.0)[:, :4]\n",
    "\n",
    "mask = np.all((0 < griz) & (griz < 28.5), axis=1)\n",
    "z = z[mask]\n",
    "griz = griz[mask]\n",
    "\n",
    "print(z.shape, griz.shape)"
   ]
  },
  {
   "cell_type": "code",
   "execution_count": null,
   "metadata": {},
   "outputs": [],
   "source": [
    "from sklearn.gaussian_process import GaussianProcessRegressor\n",
    "from sklearn.gaussian_process.kernels import RBF, WhiteKernel\n",
    "\n",
    "kernel = 1.0 * RBF() + WhiteKernel(noise_level_bounds=(1e-5, 1.5))"
   ]
  },
  {
   "cell_type": "code",
   "execution_count": null,
   "metadata": {},
   "outputs": [],
   "source": [
    "z_ = np.linspace(z.min(), z.max(), 100)"
   ]
  },
  {
   "cell_type": "code",
   "execution_count": null,
   "metadata": {},
   "outputs": [],
   "source": [
    "bands = [\"g\", \"r\", \"i\", \"z\"]\n",
    "models = {}\n",
    "fig, axs = plt.subplots(2, 3, figsize=(15, 8))\n",
    "\n",
    "r, c = 0, 0\n",
    "for b1 in range(4):\n",
    "    for b2 in range(b1+1, 4):\n",
    "        color = griz[:, b1] - griz[:, b2]\n",
    "        gp = GaussianProcessRegressor(kernel=kernel, alpha=0.0, normalize_y=True)\n",
    "        gp.fit(z.reshape((-1, 1)), color)\n",
    "        models[f\"{bands[b1]}-{bands[b2]}\"] = gp\n",
    "        print(gp.kernel_)\n",
    "        mean, std = gp.predict(z_.reshape((-1, 1)), return_std=True)\n",
    "        \n",
    "        axs[r, c].plot(z_, mean)\n",
    "        axs[r, c].fill_between(z_, mean - std, mean + std, alpha=0.5)\n",
    "        axs[r, c].scatter(z, color)\n",
    "        axs[r, c].set_xlabel(\"z\")\n",
    "        axs[r, c].set_ylabel(f\"{bands[b1]} - {bands[b2]}\")\n",
    "        c += 1\n",
    "        if c == 3:\n",
    "            r += 1\n",
    "            c = 0\n",
    "\n",
    "plt.savefig(f\"griz_vs_z.png\", dpi=200, bbox_inches=\"tight\")\n",
    "plt.show()"
   ]
  },
  {
   "cell_type": "code",
   "execution_count": null,
   "metadata": {},
   "outputs": [],
   "source": [
    "import pickle\n",
    "\n",
    "with open(\"gp_models.pickle\", \"wb\") as outfile:\n",
    "    pickle.dump(models, outfile)"
   ]
  },
  {
   "cell_type": "code",
   "execution_count": null,
   "metadata": {},
   "outputs": [],
   "source": [
    "gy_mean = np.ones(z_.shape) * (25 - (26 + 18) / 2)\n",
    "\n",
    "plt.figure(figsize=(5, 4))\n",
    "plt.plot(z_, gy_mean)\n",
    "plt.fill_between(z_, gy_mean - 4, gy_mean + 4, alpha=0.5)\n",
    "plt.xlabel(\"z\")\n",
    "plt.ylabel(\"g - y\")\n",
    "plt.savefig(\"gy_vs_z.png\", dpi=200, bbox_inches=\"tight\")\n",
    "plt.show()"
   ]
  },
  {
   "cell_type": "code",
   "execution_count": null,
   "metadata": {},
   "outputs": [],
   "source": []
  }
 ],
 "metadata": {
  "kernelspec": {
   "display_name": "Python 3",
   "language": "python",
   "name": "python3"
  },
  "language_info": {
   "codemirror_mode": {
    "name": "ipython",
    "version": 3
   },
   "file_extension": ".py",
   "mimetype": "text/x-python",
   "name": "python",
   "nbconvert_exporter": "python",
   "pygments_lexer": "ipython3",
   "version": "3.7.6"
  }
 },
 "nbformat": 4,
 "nbformat_minor": 4
}
